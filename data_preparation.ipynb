{
 "cells": [
  {
   "cell_type": "markdown",
   "id": "772605c7-5c0e-4dc0-8ee9-72eaaa6cc9bc",
   "metadata": {},
   "source": [
    "# Prepare the complete data set\n",
    "\n",
    "This notebook integrates the contents of the urls from \"keywords_emptyText.csv\" into the data set with all urls\n",
    "\n",
    "Verizon, Group 41\n",
    "<br>Athena Bai, Tia Zheng, Kathy Yang, Tapuwa Kabaira, Chris Smith\n",
    "\n",
    "Last updated: Nov. 28, 2024"
   ]
  },
  {
   "cell_type": "code",
   "execution_count": 20,
   "id": "9ab13810-3480-4b11-adc5-20ccca76e85e",
   "metadata": {},
   "outputs": [],
   "source": [
    "import pandas as pd\n",
    "import numpy as np\n",
    "#import matplotlib.pyplot as plt\n",
    "#import seaborn as sns"
   ]
  },
  {
   "cell_type": "code",
   "execution_count": 21,
   "id": "dcd766bd-0be9-4d78-a1e0-c69961e5d1cf",
   "metadata": {},
   "outputs": [],
   "source": [
    "# Read data files\n",
    "working_urls = pd.read_csv(\"data_from_check.csv\", header=0)\n",
    "remaining_urls = pd.read_csv(\"remaining_contents.csv\", header=0)\n",
    "full_data = pd.read_csv(\"categorizedurls.csv\", header=0)"
   ]
  },
  {
   "cell_type": "code",
   "execution_count": 22,
   "id": "17b8a44f-076d-4722-9db7-df22d7ea5865",
   "metadata": {},
   "outputs": [
    {
     "name": "stdout",
     "output_type": "stream",
     "text": [
      "['url' 'category' 'text_content' 'Text_Length' 'text_cleaned' 'Sentiment'\n",
      " 'lexical_diversity']\n",
      "['url' 'content']\n"
     ]
    }
   ],
   "source": [
    "# Inspect the columns of the two dataframes\n",
    "print(working_urls.columns.values)\n",
    "print(remaining_urls.columns.values)"
   ]
  },
  {
   "cell_type": "code",
   "execution_count": 23,
   "id": "a457e6c0-c7b7-45d2-ac25-041068fe57a3",
   "metadata": {},
   "outputs": [],
   "source": [
    "# Make a copy of each DataFrame\n",
    "working_urls = working_urls.copy()\n",
    "remaining_urls = remaining_urls.copy()\n",
    "full_data = full_data.copy()"
   ]
  },
  {
   "cell_type": "code",
   "execution_count": 24,
   "id": "c39d1507-3329-4a78-9c47-ee1177f834bf",
   "metadata": {},
   "outputs": [],
   "source": [
    "working_urls.drop(columns='text_cleaned', inplace=True)"
   ]
  },
  {
   "cell_type": "code",
   "execution_count": 25,
   "id": "a311ca21-1d06-49ce-a2eb-710f982d046b",
   "metadata": {},
   "outputs": [
    {
     "name": "stdout",
     "output_type": "stream",
     "text": [
      "Access to this page has been denied 按住以确认您是人类 （而非机器人）。 有问题吗？ 参考ID 3055a895-ad61-11ef-87f4-aae8c35e1003 报告问题 此页面遇到问题？请告诉我们： 您可以联系我们以寻求帮助。您应该使用参考ID : 3055a895-ad61-11ef-87f4-aae8c35e1003 您也可以向我们发送您的反馈： I’m a bot 我不知道在哪里进行确认 我一直收到“请再试一次”的消息 其他（请在下面详细说明） 遇到其他问题？ 取消 发送 ✓ 感谢您的反馈\n"
     ]
    }
   ],
   "source": [
    "# Find the content of 'zillow.com', which contains a recurring error message\n",
    "print(remaining_urls.loc[remaining_urls['url'] == 'zillow.com', 'content'].iloc[0])"
   ]
  },
  {
   "cell_type": "code",
   "execution_count": 26,
   "id": "839e81ce-d0ea-4cc6-a5bb-125f3b422ece",
   "metadata": {},
   "outputs": [
    {
     "name": "stdout",
     "output_type": "stream",
     "text": [
      "Access to this page has been denied. Priceline Security check: Please confirm that you are a real Priceline user. Access to this page has been denied because we believe you are using automation tools to browse the website. This may happen as a result of the following:  is disabled or blocked by an extension (ad blockers for example) Your browser does not support  Please make sure that  and  are enabled on your browser and that you are not blocking them from loading. Reference ID: #2c277113-ad63-11ef-aa3f-8b2e1d612e0b\n"
     ]
    }
   ],
   "source": [
    "# Find the content of 'priceline.com', which contains a recurring error message\n",
    "print(remaining_urls.loc[remaining_urls['url'] == 'priceline.com', 'content'].iloc[0])"
   ]
  },
  {
   "cell_type": "code",
   "execution_count": 27,
   "id": "b606f796-7055-425a-baca-79b3a0fc4f78",
   "metadata": {},
   "outputs": [],
   "source": [
    "error_message = []\n",
    "error_message.append('Access to this page has been denied')\n",
    "error_message.append(' 按住以确认您是人类 （而非机器人）。 有问题吗？ 参考ID ')\n",
    "error_message.append('报告问题 此页面遇到问题？请告诉我们： 您可以联系我们以寻求帮助。您应该使用参考ID :')\n",
    "error_message.append('您也可以向我们发送您的反馈： I’m a bot 我不知道在哪里进行确认 我一直收到“请再试一次”的消息 其他（请在下面详细说明） 遇到其他问题？ 取消 发送 ✓ 感谢您的反馈')\n",
    "error_message.append('is disabled or blocked by an extension')"
   ]
  },
  {
   "cell_type": "code",
   "execution_count": 28,
   "id": "0c64a7a0-2c42-474b-b321-5ed36df0b3e8",
   "metadata": {},
   "outputs": [],
   "source": [
    "# # Translation test code\n",
    "# from deep_translator import GoogleTranslator\n",
    "# to_translate = 'あなたは老师啊'\n",
    "# translated = GoogleTranslator(source='auto', target='en').translate(to_translate)\n",
    "# print(translated)"
   ]
  },
  {
   "cell_type": "code",
   "execution_count": 35,
   "id": "de50d18e-a100-4b39-98f5-82c71ade6385",
   "metadata": {},
   "outputs": [],
   "source": [
    "# Functions to process the texts in remaining_urls \n",
    "from deep_translator import GoogleTranslator\n",
    "from langdetect import detect\n",
    "from nltk.sentiment.vader import SentimentIntensityAnalyzer\n",
    "from nltk.tokenize import RegexpTokenizer\n",
    "import time\n",
    "\n",
    "def remove_error_messages(content):\n",
    "    for message in error_message:\n",
    "        content = content.replace(message, \"\")\n",
    "    return content\n",
    "    \n",
    "# Translate non-English texts in remaining_urls to English\n",
    "def preprocess(content):\n",
    "    if not isinstance(content, str):  # Check if the content is not a string (e.g. None)\n",
    "        return content\n",
    "    content = remove_error_messages(content)\n",
    "    max_chars = 5000\n",
    "    # Don't translate if the text exceeds max_chars for GoogleTranslator\n",
    "    # because the two long texts that cause errors only have English \n",
    "    if (len(content) < max_chars):\n",
    "        try:\n",
    "            lang = detect(content)\n",
    "        except Exception as e:\n",
    "            print(f\"Detection error: {e}\")\n",
    "            print(content)\n",
    "            return content\n",
    "        \n",
    "        if lang != 'en':\n",
    "            try:\n",
    "                return GoogleTranslator(source='auto', target='en').translate(content)\n",
    "            except Exception as e:\n",
    "                print(f\"Translation error: {e}\")\n",
    "                print(content)\n",
    "                return content\n",
    "\n",
    "    return content\n",
    "\n",
    "# From model.py (by Tia)\n",
    "sia = SentimentIntensityAnalyzer()\n",
    "def calc_sentiment(text):\n",
    "    return sia.polarity_scores(text)['compound'] if isinstance(text, str) else 0\n",
    "\n",
    "\n",
    "# For feature 'lexical_diversity'\n",
    "\n",
    "# From model.py (by Tia)\n",
    "tokenizer = RegexpTokenizer(r'\\w+')\n",
    "def tokenize_text(text):\n",
    "    return tokenizer.tokenize(text) if isinstance(text, str) else []\n",
    "\n",
    "# From model.py (by Tia)\n",
    "def lexical_diversity(text):\n",
    "    tokens = tokenize_text(text)\n",
    "    return len(set(tokens)) / len(tokens) if len(tokens) > 0 else 0"
   ]
  },
  {
   "cell_type": "code",
   "execution_count": 36,
   "id": "22e425f1-4510-4d21-bf68-f5461f6ee9b2",
   "metadata": {},
   "outputs": [],
   "source": [
    "# Add features to the remaining urls\n",
    "remaining_urls['category'] = None\n",
    "remaining_urls.rename(columns={'content': 'text_content'}, inplace=True)"
   ]
  },
  {
   "cell_type": "code",
   "execution_count": 37,
   "id": "6cea09d8-4529-4fa4-9656-6ec2a82e60df",
   "metadata": {},
   "outputs": [
    {
     "name": "stdout",
     "output_type": "stream",
     "text": [
      "Detection error: No features in text.\n",
      "\n",
      "Detection error: No features in text.\n",
      "\n",
      "Translation error: Request exception can happen due to an api connection error. Please check your connection and try again\n",
      "Kraken | 加密货币明智投资平台 注册 财富自由，从这里开启 财富自由，从这里开启 数百万加密货币投资者信赖 Kraken， 最出色的加密货币平台。* 数百万加密货币投资者信赖 Kraken， 最出色的加密货币平台。* 注册 ​ 注册 获取 Kraken 应用程序 *基于福布斯顾问 (Forbes Advisor) 2024 年 9 月对加密货币平台的审查。 *基于福布斯顾问 (Forbes Advisor) 2024 年 9 月对加密货币平台的审查。 自 2011 年以来加快加密货币在全球的应用 10M+ 客户 190+ 支持的国家 $207B+ 季度交易量 加密货币交易 加密货币交易， 瞬间实现 加密货币平台 加密货币交易，瞬间实现 创建您的免费 Kraken 帐户 连接您的资金选项 200+加密货币交易 购买加密货币 购买加密货币 打造您的加密投资组合 DOT Polkadot DOGE Dogecoin USDC USD Coin UNI Uniswap BTC 比特币 ETH 以太币 ADA Cardano USDT Tether USD XRP Ripple SOL Solana FIL Filecoin TRX TRON XLM Lumen LINK Chainlink LTC Litecoin BCH 比特币现金 ALGO Algorand WBTC Wrapped Bitcoin XMR Monero MATIC Polygon GRT Graph AXS Axie Infinity Shards KSM Kusama ETC Ethereum Classic WAVES Waves ATOM Cosmos DAI Dai XTZ Tezos AAVE Aave EOS EOS SNX Synthetix MANA Decentraland ICX ICON ENJ Enjin MKR MakerDAO COMP Compound DASH Dash CHZ Chiliz SUSHI Sushi ZEC Zcash 购买加密货币 购买加密货币 选择Kraken的理由？ Simplicity Kraken 让您通过桌面或者我们的 移动应用程序 轻松买入和交易 加密货币。 Education 不知从何下手？请浏览我们的 成长中心 以了解加密货币的全面知识。 服务 我们的 客服中心 将为您解答疑问。您可通过实时聊天、电话或电子邮件全天候与我们联系。 加入 Kraken 加入 Kraken 通过加密货币赚取奖励 以下所列资产均可获得奖励。每周由赚取收益的同一资产支付收益。* ALGO Algorand ALGO 1-4% 年利率 ADA Cardano ADA 2-5% 年利率 TIA Celestia TIA 8-12% 年利率 ATOM Cosmos ATOM 14-18% 年利率 DYM Dymension DYM 2-5% 年利率 ETH Ethereum ETH 2.5-7% 年利率 FLR Flare Network FLR 0.1-2% 年利率 FLOW Flow FLOW 10-15% 年利率 INJ Injective INJ 9-12% 年利率 KAVA Kava KAVA 6-11% 年利率 KSM Kusama KSM 15-24% 年利率 MINA Mina MINA 8-14% 年利率 DOT Polkadot DOT 15-22% 年利率 MATIC Polygon MATIC 3-6% 年利率 SCRT Secret Network SCRT 13-18% 年利率 SEI Sei SEI 3-6% 年利率 SOL Solana SOL 8-12% 年利率 XTZ Tezos XTZ 13-20% 年利率 GRT The Graph GRT 8-13% 年利率 TRX TRON TRX 3-6% 年利率 BTC Bitcoin BTC ^ 0.15% 年利率 EUR Euro EUR ^ 4.45% 年利率 USDT Tether USDT ^ 6.5% 年利率 USD US Dollar USD ^ 6.5% 年利率 USDC USDC USDC ^ 6.5% 年利率 18+ 资产符合奖励资格 奖励会在您的账户中自动增加 客户赚取奖励中的 $800M+ 即刻赚取 即刻赚取 * 奖励不适用于美国和英国客户。其他地域限制可能适用。奖励率会时有调整，并遵从 Kraken '的条款与条件。您的 Kraken 帐户和质押资产不受损失保险的保护，亦不受美国联邦存款保险公司 (FDIC) 或美国证券投资者保护公司 (SIPC) 的保护。详情参见 《服务条款》 。 ⌃由于地域限制，选择加入奖励的资产可用性可能会有所不同。请参阅 Kraken 在哪里可以使用 Kraken？ 的支持页面了解更多信息。 交易现货和保证金。 通过一个实力界面轻松实现 。 交易现货和保证金。 一站式强大界面，坐拥全部功能。 低 价差 降低每笔交易的 平均成本。 跨市场深度流动性 以稳定的价格, 轻松进行大笔交易。 高 速率 限制 稳健、 低延迟 API，加密货币交易速度更快。 交易加密货币 交易加密货币 随时随地下达 高级订单 。 获取应用程序 以高达 5 倍的杠杆进行 保证金交易 。 了解更多 交易 100+ 多质押 期货 合约。 期货交易 开启加密之旅 注册即可买卖 200+ 加密货币。 开始使用 Kraken 开启加密之旅 注册即可买卖 200+ 加密货币。 加入 Kraken 开始使用 Kraken 奖励率会时有调整，并遵从 Kraken '的条款与条件。这些资料仅用于一般参考，并非投资建议或买入、卖出、质押或持有任何加密资产或参与任何特定交易策略的建议或招揽。部分加密产品和市场不在监管范围内，可能无法获得政府补偿和/或监管保护计划的保护。加密资产市场不可预测，可能导致资金损失。所有退还和/或您的加密货币资产的增值均需要缴税，请就您的税务状况酌情处理。 保证金 、 期货 和 选择加入奖励 受特定地域限制和资格标准的限制。详情参见 《服务条款》 。 https://www.forbes.com/advisor/investing/cryptocurrency/best-crypto-exchanges/?award=best-crypto-exchanges-award-2024-kraken Kraken 网站上 Cookie 的使用 您的隐私 性能 Cookie 广告 Cookie 功能性 Cookie 必要性 Cookie 您的隐私 Cookie 是提供访问者所用设备相关信息的小型文本文件。有关本网站使用的 Cookie 类型及使用原因的详细信息，请参阅下文。Cookie 信息通常不会直接识别您的身份，但可以为您提供更加个性化的网络体验。出于对您隐私权的尊重，您可以选择不允许使用某些类型的 Cookie，尽管这样可能会影响网站的功能。点击不同类别的标题，了解更多信息并更改我们的默认设置。请注意，我们不会出售您的个人数据，但如果您居住在美国并且希望行使“请勿共享”权利，那么您可以通过调整以下设置来行使此类权利。 更多信息 性能 Cookie 性能 Cookie 活动状态 此类 Cookie 用于统计访问量和流量来源，以便于我们衡量及提高网站的性能。它们可以帮助我们了解哪些页面最热门，哪些页面最冷门，并了解访问者在网站上的浏览情况。此类 Cookie 收集的信息将进行汇总并去识别化。 Cookie 详细信息‎ 广告 Cookie 广告 Cookie 活动状态 Kraken 将通过广告 Cookie 在您访问的其他网站上有针对性地投放 Kraken 广告，并衡量您对这些广告的感兴趣程度。 Cookie 详细信息‎ 功能性 Cookie 功能性 Cookie 活动状态 此类 Cookie 可帮助网站增强功能及提供个性化设置。如果不允许使用此类 Cookie，部分或全部服务可能无法正常运行。 Cookie 详细信息‎ 必要性 Cookie 始终处于活动状态 对于浏览网站及使用诸如登录帐户和在页面之间来回导航而不会丢失之前的操作等功能，此类 Cookie 是十分必要的。帮助我们保护 Kraken 和客户的安全以及帮助打击欺诈和其他非法活动的 Cookie 也包括在这一类别中。 Cookie 详细信息‎ Back Button Cookie 列表 Filter Button Consent Leg.Interest checkbox label label checkbox label label checkbox label label Clear checkbox label label Apply Cancel 确认我的选择 全部拒绝 全部允许\n"
     ]
    }
   ],
   "source": [
    "# Add features to the remaining urls (contd.)\n",
    "import time\n",
    "\n",
    "remaining_urls['Text_Length'] = remaining_urls['text_content'].str.len().fillna(0) # Calculated before translation and removal of error messages\n",
    "for index, row in remaining_urls.iterrows():\n",
    "    content = row['text_content']\n",
    "    processed = preprocess(content)\n",
    "    remaining_urls.at[index, 'text_content'] = processed\n",
    "    time.sleep(3) # Introduce a delay of 3 seconds"
   ]
  },
  {
   "cell_type": "code",
   "execution_count": null,
   "id": "ec103604-3913-4093-baa7-583eba47142a",
   "metadata": {},
   "outputs": [],
   "source": [
    "# Add features to the remaining urls (contd.)dsw\n",
    "remaining_urls['Sentiment'] = remaining_urls['text_content'].apply(calc_sentiment)\n",
    "remaining_urls['lexical_diversity'] = remaining_urls['text_content'].apply(lexical_diversity)"
   ]
  },
  {
   "cell_type": "code",
   "execution_count": 13,
   "id": "d3ef3141-2b23-4390-83fd-1ee1f7a7fadc",
   "metadata": {},
   "outputs": [
    {
     "data": {
      "text/html": [
       "<div>\n",
       "<style scoped>\n",
       "    .dataframe tbody tr th:only-of-type {\n",
       "        vertical-align: middle;\n",
       "    }\n",
       "\n",
       "    .dataframe tbody tr th {\n",
       "        vertical-align: top;\n",
       "    }\n",
       "\n",
       "    .dataframe thead th {\n",
       "        text-align: right;\n",
       "    }\n",
       "</style>\n",
       "<table border=\"1\" class=\"dataframe\">\n",
       "  <thead>\n",
       "    <tr style=\"text-align: right;\">\n",
       "      <th></th>\n",
       "      <th>url</th>\n",
       "      <th>text_content</th>\n",
       "      <th>category</th>\n",
       "      <th>Text_Length</th>\n",
       "      <th>Sentiment</th>\n",
       "    </tr>\n",
       "  </thead>\n",
       "  <tbody>\n",
       "    <tr>\n",
       "      <th>0</th>\n",
       "      <td>facebook.com</td>\n",
       "      <td>Facebook - log in or sign up Connect with frie...</td>\n",
       "      <td>None</td>\n",
       "      <td>667.0</td>\n",
       "      <td>0.8957</td>\n",
       "    </tr>\n",
       "    <tr>\n",
       "      <th>1</th>\n",
       "      <td>unpkg.com</td>\n",
       "      <td>UNPKG UNPKG unpkg is a fast, global content de...</td>\n",
       "      <td>None</td>\n",
       "      <td>3074.0</td>\n",
       "      <td>0.9689</td>\n",
       "    </tr>\n",
       "    <tr>\n",
       "      <th>2</th>\n",
       "      <td>paypalobjects.com</td>\n",
       "      <td>403 403 That’s an error.</td>\n",
       "      <td>None</td>\n",
       "      <td>24.0</td>\n",
       "      <td>-0.4019</td>\n",
       "    </tr>\n",
       "    <tr>\n",
       "      <th>3</th>\n",
       "      <td>sentry.io</td>\n",
       "      <td>Application Performance Monitoring &amp; Error Tra...</td>\n",
       "      <td>None</td>\n",
       "      <td>10761.0</td>\n",
       "      <td>0.9830</td>\n",
       "    </tr>\n",
       "    <tr>\n",
       "      <th>4</th>\n",
       "      <td>chase.com</td>\n",
       "      <td>Credit Card, Mortgage, Banking, Auto | Chase O...</td>\n",
       "      <td>None</td>\n",
       "      <td>1785.0</td>\n",
       "      <td>0.9921</td>\n",
       "    </tr>\n",
       "    <tr>\n",
       "      <th>5</th>\n",
       "      <td>zillow.com</td>\n",
       "      <td>Access to this page has been denied Press and ...</td>\n",
       "      <td>None</td>\n",
       "      <td>273.0</td>\n",
       "      <td>-0.1838</td>\n",
       "    </tr>\n",
       "    <tr>\n",
       "      <th>6</th>\n",
       "      <td>wellsfargo.com</td>\n",
       "      <td>Wells Fargo Bank | Financial Services &amp; Online...</td>\n",
       "      <td>None</td>\n",
       "      <td>10353.0</td>\n",
       "      <td>0.9985</td>\n",
       "    </tr>\n",
       "    <tr>\n",
       "      <th>7</th>\n",
       "      <td>samsung.com</td>\n",
       "      <td>Samsung US | Mobile | TV | Home Electronics | ...</td>\n",
       "      <td>None</td>\n",
       "      <td>23648.0</td>\n",
       "      <td>0.9998</td>\n",
       "    </tr>\n",
       "    <tr>\n",
       "      <th>8</th>\n",
       "      <td>pinterest.com</td>\n",
       "      <td>Pinterest Oh no! Pinterest doesn't work unless...</td>\n",
       "      <td>None</td>\n",
       "      <td>60.0</td>\n",
       "      <td>-0.3595</td>\n",
       "    </tr>\n",
       "    <tr>\n",
       "      <th>9</th>\n",
       "      <td>cloudflare.com</td>\n",
       "      <td>Connect, protect, and build everywhere | Cloud...</td>\n",
       "      <td>None</td>\n",
       "      <td>7987.0</td>\n",
       "      <td>0.9988</td>\n",
       "    </tr>\n",
       "  </tbody>\n",
       "</table>\n",
       "</div>"
      ],
      "text/plain": [
       "                 url                                       text_content  \\\n",
       "0       facebook.com  Facebook - log in or sign up Connect with frie...   \n",
       "1          unpkg.com  UNPKG UNPKG unpkg is a fast, global content de...   \n",
       "2  paypalobjects.com                           403 403 That’s an error.   \n",
       "3          sentry.io  Application Performance Monitoring & Error Tra...   \n",
       "4          chase.com  Credit Card, Mortgage, Banking, Auto | Chase O...   \n",
       "5         zillow.com  Access to this page has been denied Press and ...   \n",
       "6     wellsfargo.com  Wells Fargo Bank | Financial Services & Online...   \n",
       "7        samsung.com  Samsung US | Mobile | TV | Home Electronics | ...   \n",
       "8      pinterest.com  Pinterest Oh no! Pinterest doesn't work unless...   \n",
       "9     cloudflare.com  Connect, protect, and build everywhere | Cloud...   \n",
       "\n",
       "  category  Text_Length  Sentiment  \n",
       "0     None        667.0     0.8957  \n",
       "1     None       3074.0     0.9689  \n",
       "2     None         24.0    -0.4019  \n",
       "3     None      10761.0     0.9830  \n",
       "4     None       1785.0     0.9921  \n",
       "5     None        273.0    -0.1838  \n",
       "6     None      10353.0     0.9985  \n",
       "7     None      23648.0     0.9998  \n",
       "8     None         60.0    -0.3595  \n",
       "9     None       7987.0     0.9988  "
      ]
     },
     "execution_count": 13,
     "metadata": {},
     "output_type": "execute_result"
    }
   ],
   "source": [
    "# Inspect remaining_urls again\n",
    "remaining_urls.head(10)"
   ]
  },
  {
   "cell_type": "code",
   "execution_count": 2,
   "id": "40e04913-f7b5-4279-83a6-3b8008b34917",
   "metadata": {},
   "outputs": [],
   "source": [
    "from charset_normalizer import detect\n",
    "\n",
    "# Open the file in binary mode to detect encoding\n",
    "with open(\"tia-nltkmodel/data.csv\", \"rb\") as file:\n",
    "    result = detect(file.read())\n",
    "    detected_encoding = result['encoding']"
   ]
  },
  {
   "cell_type": "code",
   "execution_count": 8,
   "id": "910d9ba8-664f-464a-940a-4d85bf6c793e",
   "metadata": {},
   "outputs": [
    {
     "name": "stdout",
     "output_type": "stream",
     "text": [
      "windows-1250\n"
     ]
    }
   ],
   "source": [
    "print(detected_encoding)"
   ]
  },
  {
   "cell_type": "code",
   "execution_count": 14,
   "id": "799ae7b6-978d-44cc-8b66-76948511600e",
   "metadata": {},
   "outputs": [
    {
     "name": "stderr",
     "output_type": "stream",
     "text": [
      "C:\\Users\\shapinb\\AppData\\Local\\Temp\\ipykernel_19056\\3689981866.py:2: DtypeWarning: Columns (53,55,56,63,64,78,79,81,82,83,86,89,90,91,92,93,94,95,98,101,104,105,106,107,108,109,110,111,112,113,116,117,118,121,124,125,126,127,129,131,132,133,134,135,136,137,138,139,140,141,142,143,144,145,146,147,148,149,150,151,152,153,154,155,156,157,158,161,164,167,170,171,172,173,174,175,176,177,178,179,180,181,182,183,184,185,186,187,188,189,190,191,192,193,194,195,196,197,198,199,200,201,202,203,204,205,206,207,208,209,210,211,212,213,214,215,216,217,218,219,220,221,222,223,224,225,226,227,228,229,230,231,232,233,234,235,236,237,238,239,240,241,242,243,244,245,246,247,248,249,250,251,252,253,254,255,256,257,258,259,260,261,262,263,264,265,266,267,268,269,270,271,272,273,274,275,276,277,278,279,280,281,282,283,284,285,286,287,288,289,290,291,292,293,294,295,296,297,298,299,300,301,302,303,304,305,306,307,308,309,310,311,312,313,314,315,316,317,318,319,320,323,326,329,332,335,338,341,344,345,346,347,348,349,350,351,352,353,354,355,356,357,358,359,360,361,362,363,364,365,366,367,368,369,370,371,372,373,374,375,376,377,378,379,382,385,388,391,394,397,398,399,400,401,402,403,404,405,406,409,410,413,414,417,418,421,424,425,426,427,428,429,430,431,432,433,434,435,436,437,440,443,446,449,452,453,454,455,456,457,458,459,460,461,462,463,464,465,466,469,472,475,478,481,482,483,484,485,486,487,488,491,494,495,496,497,500,503,506,509,512,515,518,521,522,523,524,527,530,533,534,535,536,537,538,539,540,541,542,545,548,551,552,553,554,555,556,557,560,563,566,569,570,571,573,575,577,579,580,581,582,583,584,585,586,587,588,589,590,591,592,593,594,595,596,597,598,599,602,603,604,605,606,607,608,609,610,611,612,613,614,615,616,617,618,619,620,621,622,623,624,625,626,627,628,629,630,631,632,633,634,635,636,637,638,639,640,641,642,643,644,645,646,649,650,651,652,653,654,655,656,657,658,659,660,661,662,663,664,665,666,667,668,669,670,671,672,673,674,675,676,677,678,679,680,683,686,689,690,691,692,695,698,701,704,707,710,713,716,717,718,721,724,727,730,733,735,737,739,741,744,747,750,753,755,757,759,761,764,767,770,773,775,777,779,781,784,787,790,793,795,797,799,801,802,803,804,807,808,811,812,813,816,817,820,821,824,825,826,827,828,831,834,835,838,841,842,845,848,849,850,851,852,853,854,855,856,857,858,859,860,861,862,863,864,865,866,867,868,869,870,871,872,875,878,879,880,881,884,887,890,893,896,899,902,905,906,907,908,911,914,917,918,919,920,921,922,923,924,925,926,929,932,935,936,937,938,939,940,941,944,947,950,953,954,955) have mixed types. Specify dtype option on import or set low_memory=False.\n",
      "  real_working_urls = pd.read_csv(\"tia-nltkmodel/data.csv\", header=0, encoding=detected_encoding)\n"
     ]
    },
    {
     "data": {
      "text/plain": [
       "(1719, 956)"
      ]
     },
     "execution_count": 14,
     "metadata": {},
     "output_type": "execute_result"
    }
   ],
   "source": [
    "import pandas as pd\n",
    "real_working_urls = pd.read_csv(\"tia-nltkmodel/data.csv\", header=0, encoding=detected_encoding)\n",
    "real_working_urls.shape"
   ]
  },
  {
   "cell_type": "code",
   "execution_count": 21,
   "id": "d1ab0b5c-a9d2-41b0-9ea6-542c47e10f57",
   "metadata": {},
   "outputs": [
    {
     "name": "stdout",
     "output_type": "stream",
     "text": [
      "(1136, 6)\n"
     ]
    }
   ],
   "source": [
    "# Concatenate data on the two parts of urls\n",
    "df_combined = pd.concat([working_urls, remaining_urls], ignore_index=True)"
   ]
  },
  {
   "cell_type": "code",
   "execution_count": null,
   "id": "0baddeee-5596-4d3e-ae50-72cb9678580d",
   "metadata": {},
   "outputs": [],
   "source": [
    "# Merge with the given data (all urls and labels)\n",
    "# to ensure the correct order based on 'url' and fill the 'category' column\n",
    "complete_data = full_data[['url', 'category']].merge(\n",
    "    df_combined, on=['url', 'category'], how='left'\n",
    ")"
   ]
  },
  {
   "cell_type": "code",
   "execution_count": 18,
   "id": "73ece9c3-c397-447e-8e95-a16750064a22",
   "metadata": {},
   "outputs": [
    {
     "name": "stdout",
     "output_type": "stream",
     "text": [
      "Access to this page has been denied Press and hold to confirm you are a human (and not a bot). Having problems? Reference ID 3055a895-ad61-11ef-87f4-aae8c35e1003 Report a problem Having problems with this page? Let us know: You can contact us for help. You should use the reference ID: 3055a895-ad61-11ef-87f4-aae8c35e1003 You can also send us your feedback: I’m a bot I don’t know where to check I keep getting the “Please try again” message Other (please specify below) Having another problem? Cancel Send ✓ Thanks for your feedback\n"
     ]
    }
   ],
   "source": [
    "# Reexamine the content of 'zillow.com', which contained non-English text\n",
    "print(remaining_urls.loc[remaining_urls['url'] == 'zillow.com', 'text_content'].iloc[0])"
   ]
  }
 ],
 "metadata": {
  "kernelspec": {
   "display_name": "Python 3 (ipykernel)",
   "language": "python",
   "name": "python3"
  },
  "language_info": {
   "codemirror_mode": {
    "name": "ipython",
    "version": 3
   },
   "file_extension": ".py",
   "mimetype": "text/x-python",
   "name": "python",
   "nbconvert_exporter": "python",
   "pygments_lexer": "ipython3",
   "version": "3.12.7"
  }
 },
 "nbformat": 4,
 "nbformat_minor": 5
}
