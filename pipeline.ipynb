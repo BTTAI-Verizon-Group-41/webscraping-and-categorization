{
 "cells": [
  {
   "cell_type": "markdown",
   "id": "16c106de-0c68-4c44-9091-940d15c60f0b",
   "metadata": {},
   "source": [
    "# Automated Website categorization using machine learning algorithms\n",
    "\n",
    "This notebook processes the website data and builds an ML model to predict the category of the website.\n",
    "\n",
    "Verizon, Group 41\n",
    "<br>Athena Bai, Tia Zheng, Kathy Yang, Tapuwa Kabaira, Chris Smith\n",
    "\n",
    "Last updated: Nov. 2, 2024"
   ]
  },
  {
   "cell_type": "markdown",
   "id": "5121e610-15cb-4397-b35b-785eb4c92d41",
   "metadata": {},
   "source": [
    "## 1. Prepare data"
   ]
  },
  {
   "cell_type": "code",
   "execution_count": 1,
   "id": "b53d385b-71f2-4d95-8b40-9ccf2f850fd2",
   "metadata": {},
   "outputs": [],
   "source": [
    "import pandas as pd\n",
    "import numpy as np\n",
    "#import matplotlib.pyplot as plt\n",
    "#import seaborn as sns\n",
    "\n",
    "from sklearn.preprocessing import OneHotEncoder\n",
    "\n",
    "from sklearn.model_selection import train_test_split, cross_val_score, GridSearchCV\n",
    "\n",
    "from sklearn.tree import DecisionTreeClassifier\n",
    "#from sklearn.ensemble import RandomForestRegressor, GradientBoostingRegressor\n",
    "#from sklearn.neighbors import KNeighborsClassifier\n",
    "#from sklearn.linear_model import LinearRegression\n",
    "\n",
    "from sklearn.metrics import accuracy_score\n",
    "#from sklearn.metrics import mean_squared_error, r2_score"
   ]
  },
  {
   "cell_type": "code",
   "execution_count": 2,
   "id": "5287534c-3e71-4413-9cb8-5bf4373a4d3f",
   "metadata": {},
   "outputs": [],
   "source": [
    "# Read labels\n",
    "cat_urls = pd.read_csv(\"categorizedurls.csv\", header=0)"
   ]
  },
  {
   "cell_type": "code",
   "execution_count": 3,
   "id": "c36f180a-27d4-43d8-a011-4b13d1972794",
   "metadata": {},
   "outputs": [],
   "source": [
    "# Read features\n",
    "url_ending_df = pd.read_csv(\"output_with_url_endings.csv\", header=0)\n",
    "sentiment_df = pd.read_csv(\"output_with_sentiment.csv\", header=0)"
   ]
  },
  {
   "cell_type": "code",
   "execution_count": 4,
   "id": "e273bcc4-9a1f-4e5a-b59f-6719544ed0ff",
   "metadata": {},
   "outputs": [],
   "source": [
    "# Combine the urls, features and labels into one csv\n",
    "tmp1 = cat_urls.iloc[:, 0]\n",
    "tmp2 = sentiment_df.iloc[:, [2, 3]] # Columns: Sentiment Score and Sentiment Magnitude \n",
    "tmp3 = url_ending_df.iloc[:, 0]\n",
    "tmp4 = cat_urls.iloc[:, 1]\n",
    "\n",
    "df = pd.concat([tmp1, tmp2, tmp3, tmp4], axis=1)\n",
    "\n",
    "# Save the combined data\n",
    "df.to_csv('combined_data.csv', index=False)"
   ]
  },
  {
   "cell_type": "markdown",
   "id": "51d75da0-9710-4e10-b8af-7ee0d9bec269",
   "metadata": {},
   "source": [
    "## 2. Preprocessing"
   ]
  },
  {
   "cell_type": "code",
   "execution_count": 5,
   "id": "1b170c48-cec7-4cc2-be0b-30a6caa39519",
   "metadata": {},
   "outputs": [
    {
     "name": "stdout",
     "output_type": "stream",
     "text": [
      "Number of rows and columns: (1000, 5)\n"
     ]
    }
   ],
   "source": [
    "print(\"Number of rows and columns:\", df.shape)"
   ]
  },
  {
   "cell_type": "code",
   "execution_count": 6,
   "id": "36639cd3-0835-4661-a916-f48892c82238",
   "metadata": {},
   "outputs": [
    {
     "data": {
      "text/plain": [
       "['Sentiment Score', 'Sentiment Magnitude', 'url_ending']"
      ]
     },
     "execution_count": 6,
     "metadata": {},
     "output_type": "execute_result"
    }
   ],
   "source": [
    "# Identify the features\n",
    "features = list(df.columns)\n",
    "features.remove('url')\n",
    "features.remove('category')\n",
    "features"
   ]
  },
  {
   "cell_type": "code",
   "execution_count": 7,
   "id": "3527b8c7-2b11-4fb0-a892-9009fecca603",
   "metadata": {},
   "outputs": [
    {
     "data": {
      "text/plain": [
       "3"
      ]
     },
     "execution_count": 7,
     "metadata": {},
     "output_type": "execute_result"
    }
   ],
   "source": [
    "len(features)"
   ]
  },
  {
   "cell_type": "markdown",
   "id": "70eb8fea-2198-4576-86c7-740e67204b09",
   "metadata": {},
   "source": [
    "### Missing data"
   ]
  },
  {
   "cell_type": "code",
   "execution_count": 8,
   "id": "c096259a-12a7-4f26-94ae-b7e2aef4e23f",
   "metadata": {},
   "outputs": [
    {
     "data": {
      "text/plain": [
       "url                      0\n",
       "Sentiment Score        993\n",
       "Sentiment Magnitude    993\n",
       "url_ending               0\n",
       "category                 0\n",
       "dtype: int64"
      ]
     },
     "execution_count": 8,
     "metadata": {},
     "output_type": "execute_result"
    }
   ],
   "source": [
    "# Check null data\n",
    "df.isnull().sum()"
   ]
  },
  {
   "cell_type": "code",
   "execution_count": 9,
   "id": "11d146c7-943a-4652-ad19-2773b8ac6d9a",
   "metadata": {},
   "outputs": [],
   "source": [
    "# Possible: mean/median imputation, mode imputation, KNN imputation, regression imputation"
   ]
  },
  {
   "cell_type": "code",
   "execution_count": 10,
   "id": "0a0e54e3-eefe-4662-9d52-336d4dfe2568",
   "metadata": {},
   "outputs": [],
   "source": [
    "# Example of mean imputation"
   ]
  },
  {
   "cell_type": "code",
   "execution_count": 11,
   "id": "4a906e43-8055-4f06-a6be-10e38d6879be",
   "metadata": {},
   "outputs": [],
   "source": [
    "# Find the numeric columns\n",
    "numeric_df = df.select_dtypes(include=[np.number])"
   ]
  },
  {
   "cell_type": "code",
   "execution_count": 12,
   "id": "e1ed2def-399e-4c9e-a147-812dfdacb47e",
   "metadata": {},
   "outputs": [],
   "source": [
    "numeric_df_imputed = numeric_df.fillna(numeric_df.mean())"
   ]
  },
  {
   "cell_type": "code",
   "execution_count": 13,
   "id": "e34a2f86-5a8d-4908-962d-0cc42c5db7c2",
   "metadata": {},
   "outputs": [],
   "source": [
    "numeric_col_list = list(numeric_df.columns)"
   ]
  },
  {
   "cell_type": "code",
   "execution_count": 14,
   "id": "11a781f0-d8f0-4f61-8b1a-12780dd4416a",
   "metadata": {},
   "outputs": [],
   "source": [
    "# Substitute the original numeric columns with the imputed columns\n",
    "df[numeric_col_list] = numeric_df_imputed"
   ]
  },
  {
   "cell_type": "code",
   "execution_count": 15,
   "id": "b47ccb9b-3cb7-4101-bd40-6656ad418b0d",
   "metadata": {},
   "outputs": [
    {
     "data": {
      "text/html": [
       "<div>\n",
       "<style scoped>\n",
       "    .dataframe tbody tr th:only-of-type {\n",
       "        vertical-align: middle;\n",
       "    }\n",
       "\n",
       "    .dataframe tbody tr th {\n",
       "        vertical-align: top;\n",
       "    }\n",
       "\n",
       "    .dataframe thead th {\n",
       "        text-align: right;\n",
       "    }\n",
       "</style>\n",
       "<table border=\"1\" class=\"dataframe\">\n",
       "  <thead>\n",
       "    <tr style=\"text-align: right;\">\n",
       "      <th></th>\n",
       "      <th>url</th>\n",
       "      <th>Sentiment Score</th>\n",
       "      <th>Sentiment Magnitude</th>\n",
       "      <th>url_ending</th>\n",
       "      <th>category</th>\n",
       "    </tr>\n",
       "  </thead>\n",
       "  <tbody>\n",
       "    <tr>\n",
       "      <th>0</th>\n",
       "      <td>google.com</td>\n",
       "      <td>0.600000</td>\n",
       "      <td>1.300000</td>\n",
       "      <td>com</td>\n",
       "      <td>Search Engines</td>\n",
       "    </tr>\n",
       "    <tr>\n",
       "      <th>1</th>\n",
       "      <td>googleapis.com</td>\n",
       "      <td>-0.500000</td>\n",
       "      <td>3.500000</td>\n",
       "      <td>com</td>\n",
       "      <td>Content Delivery Networks</td>\n",
       "    </tr>\n",
       "    <tr>\n",
       "      <th>2</th>\n",
       "      <td>apple.com</td>\n",
       "      <td>0.100000</td>\n",
       "      <td>11.400000</td>\n",
       "      <td>com</td>\n",
       "      <td>Computer and Internet Info</td>\n",
       "    </tr>\n",
       "    <tr>\n",
       "      <th>3</th>\n",
       "      <td>icloud.com</td>\n",
       "      <td>0.171429</td>\n",
       "      <td>3.057143</td>\n",
       "      <td>com</td>\n",
       "      <td>Online Storage and Backup</td>\n",
       "    </tr>\n",
       "    <tr>\n",
       "      <th>4</th>\n",
       "      <td>facebook.com</td>\n",
       "      <td>-0.200000</td>\n",
       "      <td>0.200000</td>\n",
       "      <td>com</td>\n",
       "      <td>Social Networking</td>\n",
       "    </tr>\n",
       "    <tr>\n",
       "      <th>5</th>\n",
       "      <td>youtube.com</td>\n",
       "      <td>0.500000</td>\n",
       "      <td>0.500000</td>\n",
       "      <td>com</td>\n",
       "      <td>Streaming Media</td>\n",
       "    </tr>\n",
       "    <tr>\n",
       "      <th>6</th>\n",
       "      <td>googletagservices.com</td>\n",
       "      <td>0.171429</td>\n",
       "      <td>3.057143</td>\n",
       "      <td>com</td>\n",
       "      <td>Web Advertisements</td>\n",
       "    </tr>\n",
       "    <tr>\n",
       "      <th>7</th>\n",
       "      <td>amazon.com</td>\n",
       "      <td>0.400000</td>\n",
       "      <td>4.200000</td>\n",
       "      <td>com</td>\n",
       "      <td>Shopping</td>\n",
       "    </tr>\n",
       "    <tr>\n",
       "      <th>8</th>\n",
       "      <td>sc-static.net</td>\n",
       "      <td>0.171429</td>\n",
       "      <td>3.057143</td>\n",
       "      <td>net</td>\n",
       "      <td>Content Delivery Networks</td>\n",
       "    </tr>\n",
       "    <tr>\n",
       "      <th>9</th>\n",
       "      <td>t.co</td>\n",
       "      <td>0.300000</td>\n",
       "      <td>0.300000</td>\n",
       "      <td>co</td>\n",
       "      <td>Internet Communications and Telephony</td>\n",
       "    </tr>\n",
       "  </tbody>\n",
       "</table>\n",
       "</div>"
      ],
      "text/plain": [
       "                     url  Sentiment Score  Sentiment Magnitude url_ending  \\\n",
       "0             google.com         0.600000             1.300000        com   \n",
       "1         googleapis.com        -0.500000             3.500000        com   \n",
       "2              apple.com         0.100000            11.400000        com   \n",
       "3             icloud.com         0.171429             3.057143        com   \n",
       "4           facebook.com        -0.200000             0.200000        com   \n",
       "5            youtube.com         0.500000             0.500000        com   \n",
       "6  googletagservices.com         0.171429             3.057143        com   \n",
       "7             amazon.com         0.400000             4.200000        com   \n",
       "8          sc-static.net         0.171429             3.057143        net   \n",
       "9                   t.co         0.300000             0.300000         co   \n",
       "\n",
       "                                category  \n",
       "0                         Search Engines  \n",
       "1              Content Delivery Networks  \n",
       "2             Computer and Internet Info  \n",
       "3              Online Storage and Backup  \n",
       "4                      Social Networking  \n",
       "5                        Streaming Media  \n",
       "6                     Web Advertisements  \n",
       "7                               Shopping  \n",
       "8              Content Delivery Networks  \n",
       "9  Internet Communications and Telephony  "
      ]
     },
     "execution_count": 15,
     "metadata": {},
     "output_type": "execute_result"
    }
   ],
   "source": [
    "df.head(10)"
   ]
  },
  {
   "cell_type": "code",
   "execution_count": 16,
   "id": "0ba0aefc-7aa9-4d6a-adf4-6dff535711d8",
   "metadata": {},
   "outputs": [],
   "source": [
    "# Uncomment the following line to inspect the processed data\n",
    "# numeric_df_imputed.head(20)"
   ]
  },
  {
   "cell_type": "markdown",
   "id": "76be2273-b126-4dcb-bc3f-fbe3dc84f707",
   "metadata": {},
   "source": [
    "Comment:\n",
    "This might not yield good predictions as the missing data are too much."
   ]
  },
  {
   "cell_type": "code",
   "execution_count": 17,
   "id": "b4da9305-9990-437d-9129-4aa3c57c68d2",
   "metadata": {},
   "outputs": [],
   "source": [
    "### One-hot Encoding"
   ]
  },
  {
   "cell_type": "code",
   "execution_count": 18,
   "id": "99d21d6c-e12d-4f5b-8bdf-a0834f3f51ac",
   "metadata": {},
   "outputs": [],
   "source": [
    "# Find all features of type object\n",
    "to_encode = list(df.select_dtypes(include=['object']).columns)\n",
    "to_encode.remove('url')\n",
    "to_encode.remove('category')"
   ]
  },
  {
   "cell_type": "code",
   "execution_count": 19,
   "id": "aa7d1b9b-f463-4191-a487-9c962875c77a",
   "metadata": {},
   "outputs": [
    {
     "data": {
      "text/plain": [
       "url_ending    18\n",
       "dtype: int64"
      ]
     },
     "execution_count": 19,
     "metadata": {},
     "output_type": "execute_result"
    }
   ],
   "source": [
    "# Look at the number of unique values each column has: (from lab3)\n",
    "df[to_encode].nunique()"
   ]
  },
  {
   "cell_type": "code",
   "execution_count": 20,
   "id": "64405320-3e44-4276-bf71-5d590d534b66",
   "metadata": {},
   "outputs": [
    {
     "data": {
      "text/plain": [
       "['com', 'org', 'gov', 'net', 'fm', 'tv', 'us', 'edu', 'co', 'ly']"
      ]
     },
     "execution_count": 20,
     "metadata": {},
     "output_type": "execute_result"
    }
   ],
   "source": [
    "# Only encode some of the most frequent url endings.\n",
    "# Otherwise one-hot encoding will slow down the computation.\n",
    "top_10_ending = list(df['url_ending'].value_counts().head(10).index)\n",
    "top_10_ending"
   ]
  },
  {
   "cell_type": "code",
   "execution_count": 21,
   "id": "446cfa2a-87c0-4376-830b-5598504dcd99",
   "metadata": {},
   "outputs": [],
   "source": [
    "for value in top_10_ending:\n",
    "    df['url_ending_'+ value] = np.where(df['url_ending']==value,1,0)\n",
    "    \n",
    "# Remove the original column from the df\n",
    "df.drop(columns = 'url_ending', inplace=True)"
   ]
  },
  {
   "cell_type": "code",
   "execution_count": 22,
   "id": "9290ad88-b9c1-46aa-89d2-a6bd134d1bc8",
   "metadata": {},
   "outputs": [
    {
     "data": {
      "text/html": [
       "<div>\n",
       "<style scoped>\n",
       "    .dataframe tbody tr th:only-of-type {\n",
       "        vertical-align: middle;\n",
       "    }\n",
       "\n",
       "    .dataframe tbody tr th {\n",
       "        vertical-align: top;\n",
       "    }\n",
       "\n",
       "    .dataframe thead th {\n",
       "        text-align: right;\n",
       "    }\n",
       "</style>\n",
       "<table border=\"1\" class=\"dataframe\">\n",
       "  <thead>\n",
       "    <tr style=\"text-align: right;\">\n",
       "      <th></th>\n",
       "      <th>url</th>\n",
       "      <th>Sentiment Score</th>\n",
       "      <th>Sentiment Magnitude</th>\n",
       "      <th>category</th>\n",
       "      <th>url_ending_com</th>\n",
       "      <th>url_ending_org</th>\n",
       "      <th>url_ending_gov</th>\n",
       "      <th>url_ending_net</th>\n",
       "      <th>url_ending_fm</th>\n",
       "      <th>url_ending_tv</th>\n",
       "      <th>url_ending_us</th>\n",
       "      <th>url_ending_edu</th>\n",
       "      <th>url_ending_co</th>\n",
       "      <th>url_ending_ly</th>\n",
       "    </tr>\n",
       "  </thead>\n",
       "  <tbody>\n",
       "    <tr>\n",
       "      <th>0</th>\n",
       "      <td>google.com</td>\n",
       "      <td>0.600000</td>\n",
       "      <td>1.300000</td>\n",
       "      <td>Search Engines</td>\n",
       "      <td>1</td>\n",
       "      <td>0</td>\n",
       "      <td>0</td>\n",
       "      <td>0</td>\n",
       "      <td>0</td>\n",
       "      <td>0</td>\n",
       "      <td>0</td>\n",
       "      <td>0</td>\n",
       "      <td>0</td>\n",
       "      <td>0</td>\n",
       "    </tr>\n",
       "    <tr>\n",
       "      <th>1</th>\n",
       "      <td>googleapis.com</td>\n",
       "      <td>-0.500000</td>\n",
       "      <td>3.500000</td>\n",
       "      <td>Content Delivery Networks</td>\n",
       "      <td>1</td>\n",
       "      <td>0</td>\n",
       "      <td>0</td>\n",
       "      <td>0</td>\n",
       "      <td>0</td>\n",
       "      <td>0</td>\n",
       "      <td>0</td>\n",
       "      <td>0</td>\n",
       "      <td>0</td>\n",
       "      <td>0</td>\n",
       "    </tr>\n",
       "    <tr>\n",
       "      <th>2</th>\n",
       "      <td>apple.com</td>\n",
       "      <td>0.100000</td>\n",
       "      <td>11.400000</td>\n",
       "      <td>Computer and Internet Info</td>\n",
       "      <td>1</td>\n",
       "      <td>0</td>\n",
       "      <td>0</td>\n",
       "      <td>0</td>\n",
       "      <td>0</td>\n",
       "      <td>0</td>\n",
       "      <td>0</td>\n",
       "      <td>0</td>\n",
       "      <td>0</td>\n",
       "      <td>0</td>\n",
       "    </tr>\n",
       "    <tr>\n",
       "      <th>3</th>\n",
       "      <td>icloud.com</td>\n",
       "      <td>0.171429</td>\n",
       "      <td>3.057143</td>\n",
       "      <td>Online Storage and Backup</td>\n",
       "      <td>1</td>\n",
       "      <td>0</td>\n",
       "      <td>0</td>\n",
       "      <td>0</td>\n",
       "      <td>0</td>\n",
       "      <td>0</td>\n",
       "      <td>0</td>\n",
       "      <td>0</td>\n",
       "      <td>0</td>\n",
       "      <td>0</td>\n",
       "    </tr>\n",
       "    <tr>\n",
       "      <th>4</th>\n",
       "      <td>facebook.com</td>\n",
       "      <td>-0.200000</td>\n",
       "      <td>0.200000</td>\n",
       "      <td>Social Networking</td>\n",
       "      <td>1</td>\n",
       "      <td>0</td>\n",
       "      <td>0</td>\n",
       "      <td>0</td>\n",
       "      <td>0</td>\n",
       "      <td>0</td>\n",
       "      <td>0</td>\n",
       "      <td>0</td>\n",
       "      <td>0</td>\n",
       "      <td>0</td>\n",
       "    </tr>\n",
       "    <tr>\n",
       "      <th>5</th>\n",
       "      <td>youtube.com</td>\n",
       "      <td>0.500000</td>\n",
       "      <td>0.500000</td>\n",
       "      <td>Streaming Media</td>\n",
       "      <td>1</td>\n",
       "      <td>0</td>\n",
       "      <td>0</td>\n",
       "      <td>0</td>\n",
       "      <td>0</td>\n",
       "      <td>0</td>\n",
       "      <td>0</td>\n",
       "      <td>0</td>\n",
       "      <td>0</td>\n",
       "      <td>0</td>\n",
       "    </tr>\n",
       "    <tr>\n",
       "      <th>6</th>\n",
       "      <td>googletagservices.com</td>\n",
       "      <td>0.171429</td>\n",
       "      <td>3.057143</td>\n",
       "      <td>Web Advertisements</td>\n",
       "      <td>1</td>\n",
       "      <td>0</td>\n",
       "      <td>0</td>\n",
       "      <td>0</td>\n",
       "      <td>0</td>\n",
       "      <td>0</td>\n",
       "      <td>0</td>\n",
       "      <td>0</td>\n",
       "      <td>0</td>\n",
       "      <td>0</td>\n",
       "    </tr>\n",
       "    <tr>\n",
       "      <th>7</th>\n",
       "      <td>amazon.com</td>\n",
       "      <td>0.400000</td>\n",
       "      <td>4.200000</td>\n",
       "      <td>Shopping</td>\n",
       "      <td>1</td>\n",
       "      <td>0</td>\n",
       "      <td>0</td>\n",
       "      <td>0</td>\n",
       "      <td>0</td>\n",
       "      <td>0</td>\n",
       "      <td>0</td>\n",
       "      <td>0</td>\n",
       "      <td>0</td>\n",
       "      <td>0</td>\n",
       "    </tr>\n",
       "    <tr>\n",
       "      <th>8</th>\n",
       "      <td>sc-static.net</td>\n",
       "      <td>0.171429</td>\n",
       "      <td>3.057143</td>\n",
       "      <td>Content Delivery Networks</td>\n",
       "      <td>0</td>\n",
       "      <td>0</td>\n",
       "      <td>0</td>\n",
       "      <td>1</td>\n",
       "      <td>0</td>\n",
       "      <td>0</td>\n",
       "      <td>0</td>\n",
       "      <td>0</td>\n",
       "      <td>0</td>\n",
       "      <td>0</td>\n",
       "    </tr>\n",
       "    <tr>\n",
       "      <th>9</th>\n",
       "      <td>t.co</td>\n",
       "      <td>0.300000</td>\n",
       "      <td>0.300000</td>\n",
       "      <td>Internet Communications and Telephony</td>\n",
       "      <td>0</td>\n",
       "      <td>0</td>\n",
       "      <td>0</td>\n",
       "      <td>0</td>\n",
       "      <td>0</td>\n",
       "      <td>0</td>\n",
       "      <td>0</td>\n",
       "      <td>0</td>\n",
       "      <td>1</td>\n",
       "      <td>0</td>\n",
       "    </tr>\n",
       "  </tbody>\n",
       "</table>\n",
       "</div>"
      ],
      "text/plain": [
       "                     url  Sentiment Score  Sentiment Magnitude  \\\n",
       "0             google.com         0.600000             1.300000   \n",
       "1         googleapis.com        -0.500000             3.500000   \n",
       "2              apple.com         0.100000            11.400000   \n",
       "3             icloud.com         0.171429             3.057143   \n",
       "4           facebook.com        -0.200000             0.200000   \n",
       "5            youtube.com         0.500000             0.500000   \n",
       "6  googletagservices.com         0.171429             3.057143   \n",
       "7             amazon.com         0.400000             4.200000   \n",
       "8          sc-static.net         0.171429             3.057143   \n",
       "9                   t.co         0.300000             0.300000   \n",
       "\n",
       "                                category  url_ending_com  url_ending_org  \\\n",
       "0                         Search Engines               1               0   \n",
       "1              Content Delivery Networks               1               0   \n",
       "2             Computer and Internet Info               1               0   \n",
       "3              Online Storage and Backup               1               0   \n",
       "4                      Social Networking               1               0   \n",
       "5                        Streaming Media               1               0   \n",
       "6                     Web Advertisements               1               0   \n",
       "7                               Shopping               1               0   \n",
       "8              Content Delivery Networks               0               0   \n",
       "9  Internet Communications and Telephony               0               0   \n",
       "\n",
       "   url_ending_gov  url_ending_net  url_ending_fm  url_ending_tv  \\\n",
       "0               0               0              0              0   \n",
       "1               0               0              0              0   \n",
       "2               0               0              0              0   \n",
       "3               0               0              0              0   \n",
       "4               0               0              0              0   \n",
       "5               0               0              0              0   \n",
       "6               0               0              0              0   \n",
       "7               0               0              0              0   \n",
       "8               0               1              0              0   \n",
       "9               0               0              0              0   \n",
       "\n",
       "   url_ending_us  url_ending_edu  url_ending_co  url_ending_ly  \n",
       "0              0               0              0              0  \n",
       "1              0               0              0              0  \n",
       "2              0               0              0              0  \n",
       "3              0               0              0              0  \n",
       "4              0               0              0              0  \n",
       "5              0               0              0              0  \n",
       "6              0               0              0              0  \n",
       "7              0               0              0              0  \n",
       "8              0               0              0              0  \n",
       "9              0               0              1              0  "
      ]
     },
     "execution_count": 22,
     "metadata": {},
     "output_type": "execute_result"
    }
   ],
   "source": [
    "df.head(10)"
   ]
  },
  {
   "cell_type": "markdown",
   "id": "cc50b245-4385-452d-94a9-d88ad8257b76",
   "metadata": {},
   "source": [
    "## 3. Modeling"
   ]
  },
  {
   "cell_type": "code",
   "execution_count": 23,
   "id": "f8de5a9c-b8e1-41f1-8d99-c714b08b0a1c",
   "metadata": {},
   "outputs": [],
   "source": [
    "X = df.drop(columns=['url', 'category'])\n",
    "y = df['category']"
   ]
  },
  {
   "cell_type": "code",
   "execution_count": 24,
   "id": "a1f6f468-a122-4d6f-833a-4df922dcb587",
   "metadata": {},
   "outputs": [],
   "source": [
    "# Train-test split\n",
    "X_train, X_test, y_train, y_test = train_test_split(X, y, test_size = 0.4, random_state = 42)"
   ]
  },
  {
   "cell_type": "code",
   "execution_count": 25,
   "id": "b8db955c-1f0c-4bf4-ad7e-b767a12ba06a",
   "metadata": {},
   "outputs": [],
   "source": [
    "# Alternatives (considering that there are >80 output classes):\n",
    "# Neural networks"
   ]
  },
  {
   "cell_type": "markdown",
   "id": "0513ac8a-c7be-40e9-8952-c9dd6cbe1666",
   "metadata": {},
   "source": [
    "### Train two Decision Tree Classifiers"
   ]
  },
  {
   "cell_type": "code",
   "execution_count": 26,
   "id": "6a31151e-33af-4f04-8eb2-dfddfe1458f9",
   "metadata": {},
   "outputs": [],
   "source": [
    "# We have assigned a default value of 'entropy' to the crit parameter.\n",
    "# scikit-learn's default value for min_samples_leaf is 1.\n",
    "def train_test_DT(X_train, X_test, y_train, y_test, depth, crit='entropy'):\n",
    "    \n",
    "    # Train a Decision Tree classifier on the training data\n",
    "    model = DecisionTreeClassifier(max_depth = depth, criterion = crit)\n",
    "\n",
    "    # Fit the model to the training data\n",
    "    model.fit(X_train, y_train)\n",
    "\n",
    "    # Make predictions on the test data\n",
    "    class_label_predictions = model.predict(X_test)\n",
    "    \n",
    "    # Compute the accuracy\n",
    "    acc_score = accuracy_score(y_test, class_label_predictions)\n",
    "    \n",
    "    return acc_score"
   ]
  },
  {
   "cell_type": "code",
   "execution_count": 27,
   "id": "7c49d4d8-9fc2-46bb-ad3d-f38f6447cf98",
   "metadata": {},
   "outputs": [
    {
     "name": "stdout",
     "output_type": "stream",
     "text": [
      "Max Depth=8, accuracy score: 0.2425\n",
      "Max Depth=64, accuracy score: 0.2425\n"
     ]
    }
   ],
   "source": [
    "depth1= 8\n",
    "depth2 = 64\n",
    "\n",
    "max_depth_range = [depth1, depth2]\n",
    "acc = []\n",
    "\n",
    "for md in max_depth_range:\n",
    "    score = train_test_DT(X_train, X_test, y_train, y_test, md)\n",
    "    acc.append(float(score))\n",
    "    print('Max Depth=' + str(md) + ', accuracy score: ' + str(score))"
   ]
  },
  {
   "cell_type": "markdown",
   "id": "459ffee7-11dd-419d-8175-7e3cd1ee923a",
   "metadata": {},
   "source": [
    "## 4.Evaluation"
   ]
  },
  {
   "cell_type": "code",
   "execution_count": 28,
   "id": "4525adef-8b90-4eda-92b8-d4b89c182847",
   "metadata": {},
   "outputs": [],
   "source": [
    "# Possible metrics: accuracy, precision, recall, F1, ROC AUC"
   ]
  },
  {
   "cell_type": "code",
   "execution_count": 29,
   "id": "0d3be32d-b747-40b6-a9c3-c5c159b2015f",
   "metadata": {},
   "outputs": [
    {
     "data": {
      "text/html": [
       "<div>\n",
       "<style scoped>\n",
       "    .dataframe tbody tr th:only-of-type {\n",
       "        vertical-align: middle;\n",
       "    }\n",
       "\n",
       "    .dataframe tbody tr th {\n",
       "        vertical-align: top;\n",
       "    }\n",
       "\n",
       "    .dataframe thead th {\n",
       "        text-align: right;\n",
       "    }\n",
       "</style>\n",
       "<table border=\"1\" class=\"dataframe\">\n",
       "  <thead>\n",
       "    <tr style=\"text-align: right;\">\n",
       "      <th></th>\n",
       "      <th>url</th>\n",
       "      <th>Sentiment Score</th>\n",
       "      <th>Sentiment Magnitude</th>\n",
       "      <th>category</th>\n",
       "      <th>url_ending_com</th>\n",
       "      <th>url_ending_org</th>\n",
       "      <th>url_ending_gov</th>\n",
       "      <th>url_ending_net</th>\n",
       "      <th>url_ending_fm</th>\n",
       "      <th>url_ending_tv</th>\n",
       "      <th>url_ending_us</th>\n",
       "      <th>url_ending_edu</th>\n",
       "      <th>url_ending_co</th>\n",
       "      <th>url_ending_ly</th>\n",
       "    </tr>\n",
       "  </thead>\n",
       "  <tbody>\n",
       "    <tr>\n",
       "      <th>0</th>\n",
       "      <td>google.com</td>\n",
       "      <td>0.600000</td>\n",
       "      <td>1.300000</td>\n",
       "      <td>Search Engines</td>\n",
       "      <td>1</td>\n",
       "      <td>0</td>\n",
       "      <td>0</td>\n",
       "      <td>0</td>\n",
       "      <td>0</td>\n",
       "      <td>0</td>\n",
       "      <td>0</td>\n",
       "      <td>0</td>\n",
       "      <td>0</td>\n",
       "      <td>0</td>\n",
       "    </tr>\n",
       "    <tr>\n",
       "      <th>1</th>\n",
       "      <td>googleapis.com</td>\n",
       "      <td>-0.500000</td>\n",
       "      <td>3.500000</td>\n",
       "      <td>Content Delivery Networks</td>\n",
       "      <td>1</td>\n",
       "      <td>0</td>\n",
       "      <td>0</td>\n",
       "      <td>0</td>\n",
       "      <td>0</td>\n",
       "      <td>0</td>\n",
       "      <td>0</td>\n",
       "      <td>0</td>\n",
       "      <td>0</td>\n",
       "      <td>0</td>\n",
       "    </tr>\n",
       "    <tr>\n",
       "      <th>2</th>\n",
       "      <td>apple.com</td>\n",
       "      <td>0.100000</td>\n",
       "      <td>11.400000</td>\n",
       "      <td>Computer and Internet Info</td>\n",
       "      <td>1</td>\n",
       "      <td>0</td>\n",
       "      <td>0</td>\n",
       "      <td>0</td>\n",
       "      <td>0</td>\n",
       "      <td>0</td>\n",
       "      <td>0</td>\n",
       "      <td>0</td>\n",
       "      <td>0</td>\n",
       "      <td>0</td>\n",
       "    </tr>\n",
       "    <tr>\n",
       "      <th>3</th>\n",
       "      <td>icloud.com</td>\n",
       "      <td>0.171429</td>\n",
       "      <td>3.057143</td>\n",
       "      <td>Online Storage and Backup</td>\n",
       "      <td>1</td>\n",
       "      <td>0</td>\n",
       "      <td>0</td>\n",
       "      <td>0</td>\n",
       "      <td>0</td>\n",
       "      <td>0</td>\n",
       "      <td>0</td>\n",
       "      <td>0</td>\n",
       "      <td>0</td>\n",
       "      <td>0</td>\n",
       "    </tr>\n",
       "    <tr>\n",
       "      <th>4</th>\n",
       "      <td>facebook.com</td>\n",
       "      <td>-0.200000</td>\n",
       "      <td>0.200000</td>\n",
       "      <td>Social Networking</td>\n",
       "      <td>1</td>\n",
       "      <td>0</td>\n",
       "      <td>0</td>\n",
       "      <td>0</td>\n",
       "      <td>0</td>\n",
       "      <td>0</td>\n",
       "      <td>0</td>\n",
       "      <td>0</td>\n",
       "      <td>0</td>\n",
       "      <td>0</td>\n",
       "    </tr>\n",
       "    <tr>\n",
       "      <th>5</th>\n",
       "      <td>youtube.com</td>\n",
       "      <td>0.500000</td>\n",
       "      <td>0.500000</td>\n",
       "      <td>Streaming Media</td>\n",
       "      <td>1</td>\n",
       "      <td>0</td>\n",
       "      <td>0</td>\n",
       "      <td>0</td>\n",
       "      <td>0</td>\n",
       "      <td>0</td>\n",
       "      <td>0</td>\n",
       "      <td>0</td>\n",
       "      <td>0</td>\n",
       "      <td>0</td>\n",
       "    </tr>\n",
       "    <tr>\n",
       "      <th>6</th>\n",
       "      <td>googletagservices.com</td>\n",
       "      <td>0.171429</td>\n",
       "      <td>3.057143</td>\n",
       "      <td>Web Advertisements</td>\n",
       "      <td>1</td>\n",
       "      <td>0</td>\n",
       "      <td>0</td>\n",
       "      <td>0</td>\n",
       "      <td>0</td>\n",
       "      <td>0</td>\n",
       "      <td>0</td>\n",
       "      <td>0</td>\n",
       "      <td>0</td>\n",
       "      <td>0</td>\n",
       "    </tr>\n",
       "    <tr>\n",
       "      <th>7</th>\n",
       "      <td>amazon.com</td>\n",
       "      <td>0.400000</td>\n",
       "      <td>4.200000</td>\n",
       "      <td>Shopping</td>\n",
       "      <td>1</td>\n",
       "      <td>0</td>\n",
       "      <td>0</td>\n",
       "      <td>0</td>\n",
       "      <td>0</td>\n",
       "      <td>0</td>\n",
       "      <td>0</td>\n",
       "      <td>0</td>\n",
       "      <td>0</td>\n",
       "      <td>0</td>\n",
       "    </tr>\n",
       "    <tr>\n",
       "      <th>8</th>\n",
       "      <td>sc-static.net</td>\n",
       "      <td>0.171429</td>\n",
       "      <td>3.057143</td>\n",
       "      <td>Content Delivery Networks</td>\n",
       "      <td>0</td>\n",
       "      <td>0</td>\n",
       "      <td>0</td>\n",
       "      <td>1</td>\n",
       "      <td>0</td>\n",
       "      <td>0</td>\n",
       "      <td>0</td>\n",
       "      <td>0</td>\n",
       "      <td>0</td>\n",
       "      <td>0</td>\n",
       "    </tr>\n",
       "    <tr>\n",
       "      <th>9</th>\n",
       "      <td>t.co</td>\n",
       "      <td>0.300000</td>\n",
       "      <td>0.300000</td>\n",
       "      <td>Internet Communications and Telephony</td>\n",
       "      <td>0</td>\n",
       "      <td>0</td>\n",
       "      <td>0</td>\n",
       "      <td>0</td>\n",
       "      <td>0</td>\n",
       "      <td>0</td>\n",
       "      <td>0</td>\n",
       "      <td>0</td>\n",
       "      <td>1</td>\n",
       "      <td>0</td>\n",
       "    </tr>\n",
       "  </tbody>\n",
       "</table>\n",
       "</div>"
      ],
      "text/plain": [
       "                     url  Sentiment Score  Sentiment Magnitude  \\\n",
       "0             google.com         0.600000             1.300000   \n",
       "1         googleapis.com        -0.500000             3.500000   \n",
       "2              apple.com         0.100000            11.400000   \n",
       "3             icloud.com         0.171429             3.057143   \n",
       "4           facebook.com        -0.200000             0.200000   \n",
       "5            youtube.com         0.500000             0.500000   \n",
       "6  googletagservices.com         0.171429             3.057143   \n",
       "7             amazon.com         0.400000             4.200000   \n",
       "8          sc-static.net         0.171429             3.057143   \n",
       "9                   t.co         0.300000             0.300000   \n",
       "\n",
       "                                category  url_ending_com  url_ending_org  \\\n",
       "0                         Search Engines               1               0   \n",
       "1              Content Delivery Networks               1               0   \n",
       "2             Computer and Internet Info               1               0   \n",
       "3              Online Storage and Backup               1               0   \n",
       "4                      Social Networking               1               0   \n",
       "5                        Streaming Media               1               0   \n",
       "6                     Web Advertisements               1               0   \n",
       "7                               Shopping               1               0   \n",
       "8              Content Delivery Networks               0               0   \n",
       "9  Internet Communications and Telephony               0               0   \n",
       "\n",
       "   url_ending_gov  url_ending_net  url_ending_fm  url_ending_tv  \\\n",
       "0               0               0              0              0   \n",
       "1               0               0              0              0   \n",
       "2               0               0              0              0   \n",
       "3               0               0              0              0   \n",
       "4               0               0              0              0   \n",
       "5               0               0              0              0   \n",
       "6               0               0              0              0   \n",
       "7               0               0              0              0   \n",
       "8               0               1              0              0   \n",
       "9               0               0              0              0   \n",
       "\n",
       "   url_ending_us  url_ending_edu  url_ending_co  url_ending_ly  \n",
       "0              0               0              0              0  \n",
       "1              0               0              0              0  \n",
       "2              0               0              0              0  \n",
       "3              0               0              0              0  \n",
       "4              0               0              0              0  \n",
       "5              0               0              0              0  \n",
       "6              0               0              0              0  \n",
       "7              0               0              0              0  \n",
       "8              0               0              0              0  \n",
       "9              0               0              1              0  "
      ]
     },
     "execution_count": 29,
     "metadata": {},
     "output_type": "execute_result"
    }
   ],
   "source": [
    "df.head(10)"
   ]
  }
 ],
 "metadata": {
  "kernelspec": {
   "display_name": "Python 3 (ipykernel)",
   "language": "python",
   "name": "python3"
  },
  "language_info": {
   "codemirror_mode": {
    "name": "ipython",
    "version": 3
   },
   "file_extension": ".py",
   "mimetype": "text/x-python",
   "name": "python",
   "nbconvert_exporter": "python",
   "pygments_lexer": "ipython3",
   "version": "3.12.4"
  }
 },
 "nbformat": 4,
 "nbformat_minor": 5
}
